{
 "cells": [
  {
   "cell_type": "markdown",
   "metadata": {},
   "source": [
    "# 03 - Stockout Risk Modeling\n",
    "This notebook summarizes stockout risk by product and store for dashboard consumption."
   ]
  },
  {
   "cell_type": "code",
   "execution_count": null,
   "metadata": {},
   "outputs": [],
   "source": [
    "# Import libraries\n",
    "import pandas as pd"
   ]
  },
  {
   "cell_type": "code",
   "execution_count": null,
   "metadata": {},
   "outputs": [],
   "source": [
    "# Load feature dataset\n",
    "df = pd.read_csv('inventory_with_features.csv')\n",
    "df['date'] = pd.to_datetime(df['date'])"
   ]
  },
  {
   "cell_type": "code",
   "execution_count": null,
   "metadata": {},
   "outputs": [],
   "source": [
    "# Aggregate: avg risk score, % days at risk, total units sold\n",
    "summary = df.groupby(['store_id', 'product_id', 'product_name']).agg({\n",
    "    'stockout_risk_score': 'mean',\n",
    "    'at_risk_flag': 'mean',\n",
    "    'units_sold': 'sum'\n",
    "}).reset_index()\n",
    "summary.rename(columns={\n",
    "    'stockout_risk_score': 'avg_risk_score',\n",
    "    'at_risk_flag': 'pct_days_at_risk',\n",
    "    'units_sold': 'total_units_sold'\n",
    "}, inplace=True)\n",
    "summary.sort_values(by='avg_risk_score', ascending=False, inplace=True)\n",
    "summary.head()"
   ]
  },
  {
   "cell_type": "code",
   "execution_count": null,
   "metadata": {},
   "outputs": [],
   "source": [
    "# Save summary to CSV for dashboard\n",
    "summary.to_csv('stockout_risk_summary.csv', index=False)"
   ]
  }
 ],
 "metadata": {
  "kernelspec": {
   "display_name": "Python 3",
   "language": "python",
   "name": "python3"
  },
  "language_info": {
   "name": "python"
  }
 },
 "nbformat": 4,
 "nbformat_minor": 2
}
